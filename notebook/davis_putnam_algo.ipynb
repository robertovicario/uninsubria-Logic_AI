{
 "cells": [
  {
   "cell_type": "code",
   "execution_count": 1,
   "id": "2210c02a",
   "metadata": {},
   "outputs": [
    {
     "data": {
      "text/plain": [
       "[[1, 2, 5],\n",
       " [4, -2, -3],\n",
       " [-1, 3, 5],\n",
       " [-4],\n",
       " [4, 2, -1, -3, -4],\n",
       " [-3, 6],\n",
       " [-1, 3],\n",
       " [4, 5],\n",
       " [1, -4, -5],\n",
       " [-5, 6],\n",
       " [1, 2, 5, 6]]"
      ]
     },
     "execution_count": 1,
     "metadata": {},
     "output_type": "execute_result"
    }
   ],
   "source": [
    "S = [\n",
    "    [1, 2, 5],\n",
    "    [4, -2, -3],\n",
    "    [-1, 3, 5],\n",
    "    [-4],\n",
    "    [4, 2, -1, -3, -4],\n",
    "    [-3, 6],\n",
    "    [-1, 3],\n",
    "    [4, 5],\n",
    "    [1, -4, -5],\n",
    "    [-5, 6],\n",
    "    [1, 2, 5, 6]\n",
    "]\n",
    "S"
   ]
  },
  {
   "cell_type": "code",
   "execution_count": 2,
   "id": "35648d29",
   "metadata": {},
   "outputs": [],
   "source": [
    "def treat_tautologies(S):\n",
    "    def is_tautology(s):\n",
    "        return any(-x in s for x in s)\n",
    "\n",
    "    return [s for s in S if not is_tautology(s)]"
   ]
  },
  {
   "cell_type": "code",
   "execution_count": 3,
   "id": "6b8e6309",
   "metadata": {},
   "outputs": [
    {
     "data": {
      "text/plain": [
       "[[1, 2, 5],\n",
       " [4, -2, -3],\n",
       " [-1, 3, 5],\n",
       " [-4],\n",
       " [-3, 6],\n",
       " [-1, 3],\n",
       " [4, 5],\n",
       " [1, -4, -5],\n",
       " [-5, 6],\n",
       " [1, 2, 5, 6]]"
      ]
     },
     "execution_count": 3,
     "metadata": {},
     "output_type": "execute_result"
    }
   ],
   "source": [
    "S_1 = treat_tautologies(S)\n",
    "S_1"
   ]
  }
 ],
 "metadata": {
  "kernelspec": {
   "display_name": "base",
   "language": "python",
   "name": "python3"
  },
  "language_info": {
   "codemirror_mode": {
    "name": "ipython",
    "version": 3
   },
   "file_extension": ".py",
   "mimetype": "text/x-python",
   "name": "python",
   "nbconvert_exporter": "python",
   "pygments_lexer": "ipython3",
   "version": "3.11.5"
  }
 },
 "nbformat": 4,
 "nbformat_minor": 5
}
