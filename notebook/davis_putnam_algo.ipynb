{
 "cells": [
  {
   "cell_type": "code",
   "execution_count": 995,
   "id": "2210c02a",
   "metadata": {},
   "outputs": [
    {
     "data": {
      "text/plain": [
       "[[1, 2, 5],\n",
       " [4, -2, -3],\n",
       " [-1, 3, 5],\n",
       " [-4],\n",
       " [4, 2, -1, -3, -4],\n",
       " [-3, 6],\n",
       " [-1, 3],\n",
       " [4, 5],\n",
       " [1, -4, -5],\n",
       " [-5, 6],\n",
       " [1, 2, 5, 6]]"
      ]
     },
     "execution_count": 995,
     "metadata": {},
     "output_type": "execute_result"
    }
   ],
   "source": [
    "S = [\n",
    "    [1, 2, 5],\n",
    "    [4, -2, -3],\n",
    "    [-1, 3, 5],\n",
    "    [-4],\n",
    "    [4, 2, -1, -3, -4],\n",
    "    [-3, 6],\n",
    "    [-1, 3],\n",
    "    [4, 5],\n",
    "    [1, -4, -5],\n",
    "    [-5, 6],\n",
    "    [1, 2, 5, 6]\n",
    "]\n",
    "S"
   ]
  },
  {
   "cell_type": "code",
   "execution_count": 996,
   "id": "35648d29",
   "metadata": {},
   "outputs": [],
   "source": [
    "def treat_tautologies(S):\n",
    "    def is_tautology(s):\n",
    "        return any(-x in s for x in s)\n",
    "\n",
    "    return [s for s in S if not is_tautology(s)]"
   ]
  },
  {
   "cell_type": "code",
   "execution_count": 997,
   "id": "6b8e6309",
   "metadata": {},
   "outputs": [
    {
     "data": {
      "text/plain": [
       "[[1, 2, 5],\n",
       " [4, -2, -3],\n",
       " [-1, 3, 5],\n",
       " [-4],\n",
       " [-3, 6],\n",
       " [-1, 3],\n",
       " [4, 5],\n",
       " [1, -4, -5],\n",
       " [-5, 6],\n",
       " [1, 2, 5, 6]]"
      ]
     },
     "execution_count": 997,
     "metadata": {},
     "output_type": "execute_result"
    }
   ],
   "source": [
    "S_1 = treat_tautologies(S)\n",
    "S_1"
   ]
  },
  {
   "cell_type": "code",
   "execution_count": 998,
   "id": "01f90393",
   "metadata": {},
   "outputs": [],
   "source": [
    "def treat_subsumptions(S):\n",
    "    def is_subsumed(c1, c2):\n",
    "        return set(c1).issubset(set(c2))\n",
    "\n",
    "    # FIXME\n",
    "    keep = [True] * len(S)\n",
    "    for i in range(len(S)):\n",
    "        for j in range(len(S)):\n",
    "            if i != j and is_subsumed(S[i], S[j]):\n",
    "                keep[j] = False\n",
    "\n",
    "    return [S[i] for i in range(len(S)) if keep[i]]"
   ]
  },
  {
   "cell_type": "code",
   "execution_count": 999,
   "id": "da52fad3",
   "metadata": {},
   "outputs": [
    {
     "data": {
      "text/plain": [
       "[[1, 2, 5], [4, -2, -3], [-4], [-3, 6], [-1, 3], [4, 5], [-5, 6]]"
      ]
     },
     "execution_count": 999,
     "metadata": {},
     "output_type": "execute_result"
    }
   ],
   "source": [
    "S_2 = treat_subsumptions(S_1)\n",
    "S_2"
   ]
  },
  {
   "cell_type": "code",
   "execution_count": 1000,
   "id": "6820366c",
   "metadata": {},
   "outputs": [],
   "source": [
    "def treat_pure_literals(S):\n",
    "    def is_pure_literal(literal):\n",
    "        appears_pos = any(literal in clause for clause in S)\n",
    "        appears_neg = any(-literal in clause for clause in S)\n",
    "        return appears_pos != appears_neg\n",
    "\n",
    "    return [clause for clause in S if not any(is_pure_literal(literal) for literal in clause)]"
   ]
  },
  {
   "cell_type": "code",
   "execution_count": 1001,
   "id": "68dfc12c",
   "metadata": {},
   "outputs": [
    {
     "data": {
      "text/plain": [
       "[[1, 2, 5], [4, -2, -3], [-4], [-1, 3], [4, 5]]"
      ]
     },
     "execution_count": 1001,
     "metadata": {},
     "output_type": "execute_result"
    }
   ],
   "source": [
    "S_3 = treat_pure_literals(S_2)\n",
    "S_3"
   ]
  },
  {
   "cell_type": "code",
   "execution_count": 1002,
   "id": "633364cd",
   "metadata": {},
   "outputs": [],
   "source": [
    "def treat_unit_propagations(S):\n",
    "    unit_literals = []\n",
    "    def is_unit_clause(clause):\n",
    "        if len(clause) == 1:\n",
    "            unit_literals.append(clause[0])\n",
    "            return True\n",
    "\n",
    "    for clause in S:\n",
    "        if is_unit_clause(clause):\n",
    "            S.remove(clause)\n",
    "\n",
    "    # -------------------------\n",
    "\n",
    "    def contains_unit_literal(clause):\n",
    "        return any(literal in unit_literals for literal in clause)\n",
    "\n",
    "    for clause in S:\n",
    "        if contains_unit_literal(clause):\n",
    "            S.remove(clause)\n",
    "\n",
    "    # -------------------------\n",
    "\n",
    "    def contains_opposite_unit_literal(clause):\n",
    "        return any(-literal in unit_literals for literal in clause)\n",
    "\n",
    "    for clause in S:\n",
    "        if contains_opposite_unit_literal(clause):\n",
    "            for literal in clause:\n",
    "                for unit in unit_literals:\n",
    "                    if -literal == unit:\n",
    "                        clause.remove(literal)\n",
    "\n",
    "    # -------------------------\n",
    "\n",
    "    return S"
   ]
  },
  {
   "cell_type": "code",
   "execution_count": 1003,
   "id": "474ab532",
   "metadata": {},
   "outputs": [
    {
     "data": {
      "text/plain": [
       "[[1, 2, 5], [-2, -3], [-1, 3], [5]]"
      ]
     },
     "execution_count": 1003,
     "metadata": {},
     "output_type": "execute_result"
    }
   ],
   "source": [
    "S_4 = treat_unit_propagations(S_3)\n",
    "S_4"
   ]
  },
  {
   "cell_type": "code",
   "execution_count": null,
   "id": "7b88c094",
   "metadata": {},
   "outputs": [],
   "source": []
  }
 ],
 "metadata": {
  "kernelspec": {
   "display_name": "base",
   "language": "python",
   "name": "python3"
  },
  "language_info": {
   "codemirror_mode": {
    "name": "ipython",
    "version": 3
   },
   "file_extension": ".py",
   "mimetype": "text/x-python",
   "name": "python",
   "nbconvert_exporter": "python",
   "pygments_lexer": "ipython3",
   "version": "3.11.5"
  }
 },
 "nbformat": 4,
 "nbformat_minor": 5
}
